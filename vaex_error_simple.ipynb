{
 "cells": [
  {
   "cell_type": "code",
   "execution_count": 1,
   "metadata": {},
   "outputs": [],
   "source": [
    "import pandas as pd\n",
    "import vaex "
   ]
  },
  {
   "cell_type": "code",
   "execution_count": 2,
   "metadata": {},
   "outputs": [],
   "source": [
    "df_vaex = vaex.read_csv(\"date.txt\")\n",
    "df_pd = pd.read_csv(\"date.txt\")"
   ]
  },
  {
   "cell_type": "code",
   "execution_count": 3,
   "metadata": {},
   "outputs": [
    {
     "data": {
      "text/html": [
       "<table>\n",
       "<thead>\n",
       "<tr><th>#                            </th><th>meowdate  </th><th style=\"text-align: right;\">  id</th></tr>\n",
       "</thead>\n",
       "<tbody>\n",
       "<tr><td><i style='opacity: 0.6'>0</i></td><td>2/12/2020 </td><td style=\"text-align: right;\">   1</td></tr>\n",
       "<tr><td><i style='opacity: 0.6'>1</i></td><td>4/20/2020 </td><td style=\"text-align: right;\">   2</td></tr>\n",
       "<tr><td><i style='opacity: 0.6'>2</i></td><td>xxxxx     </td><td style=\"text-align: right;\">   3</td></tr>\n",
       "<tr><td><i style='opacity: 0.6'>3</i></td><td>12/4/2020 </td><td style=\"text-align: right;\"> nan</td></tr>\n",
       "</tbody>\n",
       "</table>"
      ],
      "text/plain": [
       "  #  meowdate      id\n",
       "  0  2/12/2020      1\n",
       "  1  4/20/2020      2\n",
       "  2  xxxxx          3\n",
       "  3  12/4/2020    nan"
      ]
     },
     "execution_count": 3,
     "metadata": {},
     "output_type": "execute_result"
    }
   ],
   "source": [
    "df_vaex.head()"
   ]
  },
  {
   "cell_type": "code",
   "execution_count": 5,
   "metadata": {},
   "outputs": [
    {
     "data": {
      "text/html": [
       "<table>\n",
       "<thead>\n",
       "<tr><th>#                            </th><th>meowdate  </th><th style=\"text-align: right;\">  id</th></tr>\n",
       "</thead>\n",
       "<tbody>\n",
       "<tr><td><i style='opacity: 0.6'>0</i></td><td>xxxxx     </td><td style=\"text-align: right;\">   3</td></tr>\n",
       "</tbody>\n",
       "</table>"
      ],
      "text/plain": [
       "  #  meowdate      id\n",
       "  0  xxxxx          3"
      ]
     },
     "execution_count": 5,
     "metadata": {},
     "output_type": "execute_result"
    }
   ],
   "source": [
    "df_vaex[df_vaex.id == 3]"
   ]
  },
  {
   "cell_type": "code",
   "execution_count": 6,
   "metadata": {},
   "outputs": [
    {
     "data": {
      "text/html": [
       "<table>\n",
       "<thead>\n",
       "<tr><th>#  </th><th>meowdate  </th><th>id  </th></tr>\n",
       "</thead>\n",
       "<tbody>\n",
       "<tr><td>   </td><td>          </td><td>    </td></tr>\n",
       "</tbody>\n",
       "</table><i>No rows to display (because of filtering).</i>"
      ],
      "text/plain": [
       "#    meowdate    id\n",
       "\n",
       "No rows to display (because of filtering)."
      ]
     },
     "execution_count": 6,
     "metadata": {},
     "output_type": "execute_result"
    }
   ],
   "source": [
    "df_vaex[df_vaex.id == \"3\"]"
   ]
  },
  {
   "cell_type": "code",
   "execution_count": null,
   "metadata": {},
   "outputs": [],
   "source": []
  }
 ],
 "metadata": {
  "kernelspec": {
   "display_name": "Python 3",
   "language": "python",
   "name": "python3"
  },
  "language_info": {
   "codemirror_mode": {
    "name": "ipython",
    "version": 3
   },
   "file_extension": ".py",
   "mimetype": "text/x-python",
   "name": "python",
   "nbconvert_exporter": "python",
   "pygments_lexer": "ipython3",
   "version": "3.8.5"
  }
 },
 "nbformat": 4,
 "nbformat_minor": 4
}
